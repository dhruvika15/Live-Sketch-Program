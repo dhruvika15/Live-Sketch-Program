{
 "cells": [
  {
   "cell_type": "code",
   "execution_count": 1,
   "id": "797a87d8",
   "metadata": {},
   "outputs": [],
   "source": [
    "import cv2\n",
    "import numpy as np\n",
    "kernel = np.ones((5,5))\n",
    "cap = cv2.VideoCapture(0)\n",
    "i = 0\n",
    "\n",
    "while True:\n",
    "    i= i+1\n",
    "    ret, photo = cap.read()\n",
    "    photo = cv2.morphologyEx(photo, cv2.MORPH_GRADIENT, kernel)\n",
    "    cv2.imshow(\"Title\" , photo)\n",
    "    if cv2.waitKey(1)==27:\n",
    "        break\n",
    "\n",
    "cap.release()\n",
    "cv2.destroyAllWindows()"
   ]
  }
 ],
 "metadata": {
  "kernelspec": {
   "display_name": "Python 3",
   "language": "python",
   "name": "python3"
  },
  "language_info": {
   "codemirror_mode": {
    "name": "ipython",
    "version": 3
   },
   "file_extension": ".py",
   "mimetype": "text/x-python",
   "name": "python",
   "nbconvert_exporter": "python",
   "pygments_lexer": "ipython3",
   "version": "3.8.8"
  }
 },
 "nbformat": 4,
 "nbformat_minor": 5
}
